{
 "cells": [
  {
   "cell_type": "code",
   "execution_count": 8,
   "metadata": {},
   "outputs": [],
   "source": [
    "from bs4 import BeautifulSoup\n",
    "import re\n",
    "import os\n",
    "from selenium import webdriver\n",
    "from selenium.webdriver.chrome.options import Options\n",
    "from time import sleep\n",
    "from tqdm import tqdm"
   ]
  },
  {
   "cell_type": "code",
   "execution_count": 9,
   "metadata": {},
   "outputs": [],
   "source": [
    "DRIVER_SITE = '/Applications/chromedriver'\n",
    "ORIGINAL_URL = 'https://keirin.netkeiba.com/db/search_result/player.html?word=&grad=&pref=&age=&sex=&class=&act%5B%5D=1&sort=1&submit='\n",
    "CURRENT_DIR = '/Users/yamazakiyuuta/Library/Mobile Documents/com~apple~CloudDocs/Product/keirin-pred'\n",
    "YEARLY_RESULTS_FILENAME = 'yearly_results.csv'\n",
    "YEARLY_RESULTS_HEADER = (\n",
    "    '選手名, 年齢, 性別, 身長, 体重, 級班, 脚質, 登録番号,'\n",
    "    '年度, 1着, 2着, 3着, 4着〜, 出走回数, 優勝回数, 勝率, 2連対率, 3連対率\\n'\n",
    ")\n",
    "PLAYER_RESULTS_FILENAME = 'player_results.csv'\n",
    "PLAYER_RESULTS_HEADER = (\n",
    "    '選手名, 年齢, 性別, 身長, 体重, 級班, 脚質, 登録番号,'\n",
    "    'レース名, 着順1, 着順2, 着順3, 着順4, 着順5\\n'\n",
    ")\n",
    "MAX_RESULTS = 5"
   ]
  },
  {
   "cell_type": "code",
   "execution_count": 10,
   "metadata": {},
   "outputs": [],
   "source": [
    "options = Options()\n",
    "options.add_argument('--headless')\n",
    "driver = webdriver.Chrome('/Applications/chromedriver', options=options)\n",
    "# driver = webdriver.Chrome(DRIVER_SITE)\n",
    "driver.get(ORIGINAL_URL)"
   ]
  },
  {
   "cell_type": "code",
   "execution_count": 11,
   "metadata": {},
   "outputs": [],
   "source": [
    "def get_player_basic_data(soup):\n",
    "    \n",
    "    player_data = []\n",
    "\n",
    "    # 選手名の取得\n",
    "    player_name = soup.find(class_ = 'ProfileHeader_box_name').get_text(strip=True)\n",
    "    player_name = re.sub('\\(.*\\)', '', player_name)\n",
    "    player_data.append(player_name)\n",
    "\n",
    "    # 年齢、性別の取得\n",
    "    for i, data in enumerate(soup.find_all(class_ = 'ProfileHeader_box_dataText')):\n",
    "        if i == 0 or i == 4:\n",
    "            player_data.append(data.get_text(strip=True))\n",
    "\n",
    "    # 身長、体重、級班、脚質、登録番号の取得\n",
    "    for i, data in enumerate(soup.find_all(class_ = 'profile_list_data')):\n",
    "        if i == 0:\n",
    "            height_weight = data.get_text(strip=True).split(sep='/')\n",
    "            player_data.append(height_weight[0])\n",
    "            player_data.append(height_weight[1])\n",
    "        elif i == 3 or i == 5 or i == 6:\n",
    "            player_data.append(data.get_text(strip=True))\n",
    "\n",
    "    return player_data"
   ]
  },
  {
   "cell_type": "code",
   "execution_count": 12,
   "metadata": {},
   "outputs": [],
   "source": [
    "def get_yearly_resluts(soup):\n",
    "\n",
    "    yearly_results = {}\n",
    "\n",
    "    # 年度の取得\n",
    "    years = []\n",
    "    for year in soup.find_all(class_ = 'detail_table_tbodyInner'):\n",
    "        years.append(year.get_text(strip=True))\n",
    "\n",
    "    # 年度、1着/2着/3着/4着〜、出走回数、優勝回数、勝率、2連対率、3連対率の取得\n",
    "    detail_table = soup.find(class_ = 'mode_detail_table table_slide_body ResultsByYears')\n",
    "    for i, data in enumerate(detail_table.find(class_ = 'detail_table_tbody').find_all('tr')):\n",
    "        yearly_result = []\n",
    "        for detail in data.find_all('td'):\n",
    "            yearly_result.append(detail.get_text(strip=True))\n",
    "        yearly_results[years[i]] = yearly_result\n",
    "\n",
    "    return yearly_results"
   ]
  },
  {
   "cell_type": "code",
   "execution_count": 13,
   "metadata": {},
   "outputs": [],
   "source": [
    "def get_race_results(soup):\n",
    "    \n",
    "    race_results = {}\n",
    "\n",
    "    # レース名の取得\n",
    "    race_name = []\n",
    "    for data in soup.find_all(lambda tag: tag.get('class') == ['detail_table_tbodyInner']):\n",
    "        race_name.append(data.get_text(strip=True))\n",
    "    \n",
    "    # 着順の取得、レース名と着順の結合\n",
    "    for i, data in enumerate(soup.find(id = 'view-result').find_all('tr')):\n",
    "        results = []\n",
    "        for result in data.find_all('td'):\n",
    "            results.append(result.get_text(strip=True).replace('\\u3000', ''))\n",
    "        \n",
    "        if len(results) < MAX_RESULTS:\n",
    "            for _ in range(MAX_RESULTS - len(results)):\n",
    "                results.append('')\n",
    "                \n",
    "        race_results[race_name[i]] = results\n",
    "\n",
    "    return race_results"
   ]
  },
  {
   "cell_type": "code",
   "execution_count": 14,
   "metadata": {},
   "outputs": [
    {
     "name": "stderr",
     "output_type": "stream",
     "text": [
      "  0%|          | 0/240 [00:38<?, ?it/s]\n"
     ]
    },
    {
     "ename": "KeyboardInterrupt",
     "evalue": "",
     "output_type": "error",
     "traceback": [
      "\u001b[0;31m---------------------------------------------------------------------------\u001b[0m",
      "\u001b[0;31mKeyboardInterrupt\u001b[0m                         Traceback (most recent call last)",
      "\u001b[0;32m<ipython-input-14-90bc250d84bc>\u001b[0m in \u001b[0;36m<module>\u001b[0;34m\u001b[0m\n\u001b[1;32m     30\u001b[0m             \u001b[0;31m# 詳細ページへの遷移\u001b[0m\u001b[0;34m\u001b[0m\u001b[0;34m\u001b[0m\u001b[0;34m\u001b[0m\u001b[0m\n\u001b[1;32m     31\u001b[0m             \u001b[0mdriver\u001b[0m\u001b[0;34m.\u001b[0m\u001b[0mfind_element_by_link_text\u001b[0m\u001b[0;34m(\u001b[0m\u001b[0;34m'もっと見る'\u001b[0m\u001b[0;34m)\u001b[0m\u001b[0;34m.\u001b[0m\u001b[0mclick\u001b[0m\u001b[0;34m(\u001b[0m\u001b[0;34m)\u001b[0m\u001b[0;34m\u001b[0m\u001b[0;34m\u001b[0m\u001b[0m\n\u001b[0;32m---> 32\u001b[0;31m             \u001b[0msleep\u001b[0m\u001b[0;34m(\u001b[0m\u001b[0;36m1\u001b[0m\u001b[0;34m)\u001b[0m\u001b[0;34m\u001b[0m\u001b[0;34m\u001b[0m\u001b[0m\n\u001b[0m\u001b[1;32m     33\u001b[0m             \u001b[0msoup\u001b[0m \u001b[0;34m=\u001b[0m \u001b[0mBeautifulSoup\u001b[0m\u001b[0;34m(\u001b[0m\u001b[0mdriver\u001b[0m\u001b[0;34m.\u001b[0m\u001b[0mpage_source\u001b[0m\u001b[0;34m,\u001b[0m \u001b[0;34m'html.parser'\u001b[0m\u001b[0;34m)\u001b[0m\u001b[0;34m\u001b[0m\u001b[0;34m\u001b[0m\u001b[0m\n\u001b[1;32m     34\u001b[0m \u001b[0;34m\u001b[0m\u001b[0m\n",
      "\u001b[0;31mKeyboardInterrupt\u001b[0m: "
     ]
    }
   ],
   "source": [
    "try:\n",
    "    yearly_results_file = open(os.path.join(CURRENT_DIR, YEARLY_RESULTS_FILENAME), 'w')\n",
    "    yearly_results_file.write(YEARLY_RESULTS_HEADER)\n",
    "\n",
    "    race_results_file = open(os.path.join(CURRENT_DIR, PLAYER_RESULTS_FILENAME), 'w')\n",
    "    race_results_file.write(PLAYER_RESULTS_HEADER)\n",
    "\n",
    "    # 全ページ数の取得\n",
    "    driver.find_element_by_link_text('最後').click()\n",
    "    sleep(1)\n",
    "    total_page_num = int(driver.find_element_by_xpath('//a[@class=\"Page_Active\"]').text)\n",
    "    driver.get(ORIGINAL_URL)\n",
    "    sleep(1)\n",
    "\n",
    "    current_url = ORIGINAL_URL\n",
    "\n",
    "    for _ in tqdm(range(total_page_num)):\n",
    "        player_list = driver.find_elements_by_xpath('//ul[@class=\"playerList CommonList_01\"]/li/a')\n",
    "\n",
    "        for player_count in range(len(player_list)):\n",
    "            # 選手ページへの遷移\n",
    "            trans_player_list = driver.find_elements_by_xpath('//ul[@class=\"playerList CommonList_01\"]/li/a')\n",
    "            trans_player_list[player_count].click()\n",
    "            sleep(1)\n",
    "            soup = BeautifulSoup(driver.page_source, 'html.parser')\n",
    "\n",
    "            # 基本データの取得\n",
    "            player_basic_data = get_player_basic_data(soup)\n",
    "\n",
    "            # 詳細ページへの遷移\n",
    "            driver.find_element_by_link_text('もっと見る').click()\n",
    "            sleep(1)\n",
    "            soup = BeautifulSoup(driver.page_source, 'html.parser')\n",
    "\n",
    "            # 年度別成績の取得\n",
    "            yearly_results = get_yearly_resluts(soup)\n",
    "\n",
    "            # 近況成績ページへの遷移\n",
    "            driver.find_element_by_link_text('近況成績').click()\n",
    "            sleep(1)\n",
    "            soup = BeautifulSoup(driver.page_source, 'html.parser')\n",
    "            # 近況成績の取得\n",
    "            race_results = get_race_results(soup)\n",
    "\n",
    "            for year, result in yearly_results.items():\n",
    "                yearly_results_file.write(\n",
    "                    ','.join(player_basic_data) + \n",
    "                    ',' + year  +\n",
    "                    ',' + ','.join(result) + '\\n'\n",
    "                )\n",
    "            \n",
    "            for race_name, result in race_results.items():\n",
    "                race_results_file.write(\n",
    "                    ','.join(player_basic_data) + \n",
    "                    ',' + race_name  +\n",
    "                    ',' + ','.join(result) + '\\n'\n",
    "                )\n",
    "\n",
    "            # 選手検索ページへ戻る\n",
    "            driver.get(current_url)\n",
    "            sleep(1)\n",
    "\n",
    "        # 次の選手検索ページへ遷移する\n",
    "        driver.find_element_by_link_text('次へ').click()\n",
    "        sleep(1)\n",
    "        current_url = driver.current_url\n",
    "\n",
    "except Exception as e:\n",
    "    print('エラー発生!')\n",
    "    print(driver.current_url)\n",
    "    print(e)\n",
    "finally:\n",
    "    yearly_results_file.close()\n",
    "    race_results_file.close()"
   ]
  },
  {
   "cell_type": "code",
   "execution_count": null,
   "metadata": {},
   "outputs": [],
   "source": [
    "driver.quit()"
   ]
  },
  {
   "cell_type": "code",
   "execution_count": null,
   "metadata": {},
   "outputs": [],
   "source": []
  }
 ],
 "metadata": {
  "interpreter": {
   "hash": "d5e3c9d57004535c270780549adf8d91e7371700e9fd9228a6e9fc68d8f56418"
  },
  "kernelspec": {
   "display_name": "Python 3.8.5 64-bit ('base': conda)",
   "name": "python3"
  },
  "language_info": {
   "codemirror_mode": {
    "name": "ipython",
    "version": 3
   },
   "file_extension": ".py",
   "mimetype": "text/x-python",
   "name": "python",
   "nbconvert_exporter": "python",
   "pygments_lexer": "ipython3",
   "version": "3.8.5"
  },
  "orig_nbformat": 4
 },
 "nbformat": 4,
 "nbformat_minor": 2
}