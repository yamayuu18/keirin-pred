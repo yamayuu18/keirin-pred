{
    "cells": [
        {
            "cell_type": "code",
            "execution_count": 41,
            "source": [
                "import csv\n",
                "import glob\n",
                "from natsort import natsorted\n",
                "import os\n",
                "from typing import Final\n",
                "from __future__ import annotations"
            ],
            "outputs": [],
            "metadata": {}
        },
        {
            "cell_type": "code",
            "execution_count": 42,
            "source": [
                "PARTICIPANTS_CSV_NUM: Final[int] = 17\n",
                "RACE_RESULTS_CSV_NUM: Final[int] = 14\n",
                "DEL_COL_NUMS: Final[int] = 7"
            ],
            "outputs": [],
            "metadata": {}
        },
        {
            "cell_type": "code",
            "execution_count": 43,
            "source": [
                "def del_col_and_make_file(file: str, csv_num: int, del_col_nums: int) -> None:\n",
                "    try:\n",
                "        f_in = open(file, 'r', encoding='utf-8')\n",
                "        file_info = file.split('/')\n",
                "        f_out = open(os.path.join(file_info[0] + '2', file_info[1]), 'w')\n",
                "        reader = csv.reader(f_in)\n",
                "        writer = csv.writer(f_out)\n",
                "        for line in reader:\n",
                "            # 距離列、周回列が存在する場合\n",
                "            if len(line) == csv_num:\n",
                "                # 距離列の削除\n",
                "                line.pop(del_col_nums)\n",
                "                # 周回列の削除\n",
                "                line.pop(del_col_nums)\n",
                "            writer.writerow(line)\n",
                "    except:\n",
                "        f_in = open(file, 'r', encoding='cp932')\n",
                "        reader = csv.reader(f_in)\n",
                "        for line in reader:\n",
                "            # 距離列、周回列が存在する場合\n",
                "            if len(line) == csv_num:\n",
                "                # 距離列の削除\n",
                "                line.pop(del_col_nums)\n",
                "                # 周回列の削除\n",
                "                line.pop(del_col_nums)\n",
                "            writer.writerow(line)\n",
                "\n",
                "    f_in.close()\n",
                "    f_out.close()"
            ],
            "outputs": [],
            "metadata": {}
        },
        {
            "cell_type": "code",
            "execution_count": 44,
            "source": [
                "files = natsorted(glob.glob('race_data/participants*.csv'))\n",
                "\n",
                "for file in files:\n",
                "    del_col_and_make_file(file, PARTICIPANTS_CSV_NUM, DEL_COL_NUMS)\n",
                "\n",
                "files = natsorted(glob.glob('race_data/race_results*.csv'))\n",
                "\n",
                "for file in files:\n",
                "    del_col_and_make_file(file, RACE_RESULTS_CSV_NUM, DEL_COL_NUMS)\n"
            ],
            "outputs": [],
            "metadata": {}
        },
        {
            "cell_type": "code",
            "execution_count": null,
            "source": [],
            "outputs": [],
            "metadata": {}
        }
    ],
    "metadata": {
        "orig_nbformat": 4,
        "language_info": {
            "name": "python",
            "version": "3.8.5",
            "mimetype": "text/x-python",
            "codemirror_mode": {
                "name": "ipython",
                "version": 3
            },
            "pygments_lexer": "ipython3",
            "nbconvert_exporter": "python",
            "file_extension": ".py"
        },
        "kernelspec": {
            "name": "python3",
            "display_name": "Python 3.8.5 64-bit ('base': conda)"
        },
        "interpreter": {
            "hash": "d5e3c9d57004535c270780549adf8d91e7371700e9fd9228a6e9fc68d8f56418"
        }
    },
    "nbformat": 4,
    "nbformat_minor": 2
}